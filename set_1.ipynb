{
  "nbformat": 4,
  "nbformat_minor": 0,
  "metadata": {
    "colab": {
      "provenance": [],
      "authorship_tag": "ABX9TyP+7bwfdcbMKFGHy83K177N",
      "include_colab_link": true
    },
    "kernelspec": {
      "name": "python3",
      "display_name": "Python 3"
    },
    "language_info": {
      "name": "python"
    }
  },
  "cells": [
    {
      "cell_type": "markdown",
      "metadata": {
        "id": "view-in-github",
        "colab_type": "text"
      },
      "source": [
        "<a href=\"https://colab.research.google.com/github/Injamamul-lvcd/python_practice/blob/main/set_1.ipynb\" target=\"_parent\"><img src=\"https://colab.research.google.com/assets/colab-badge.svg\" alt=\"Open In Colab\"/></a>"
      ]
    },
    {
      "cell_type": "markdown",
      "source": [
        "List Manipulation"
      ],
      "metadata": {
        "id": "6IhkN1DivlOp"
      }
    },
    {
      "cell_type": "markdown",
      "source": [
        "1.Write a Python program to remove duplicates from a list."
      ],
      "metadata": {
        "id": "-VAQ9b1Fvr9I"
      }
    },
    {
      "cell_type": "code",
      "execution_count": 3,
      "metadata": {
        "id": "cSqY7dghsCSi",
        "colab": {
          "base_uri": "https://localhost:8080/"
        },
        "outputId": "75e71838-9a31-4644-c084-b3f61d0f1a72"
      },
      "outputs": [
        {
          "output_type": "stream",
          "name": "stdout",
          "text": [
            "[2, 3, 4, 5, 7, 9]\n"
          ]
        }
      ],
      "source": [
        "l1 = [9,2,7,5,3,4,5,2,9]\n",
        "s=set(l1)\n",
        "l2=list(s)\n",
        "print(l2)\n"
      ]
    },
    {
      "cell_type": "code",
      "source": [
        "my_list = [1, 2, 3, 3, 4, 5, 5]\n",
        "new_list = []\n",
        "for i in my_list:\n",
        "  if i not in new_list:\n",
        "    new_list.append(i)\n",
        "print(new_list)"
      ],
      "metadata": {
        "colab": {
          "base_uri": "https://localhost:8080/"
        },
        "id": "V0inTvbgwwmy",
        "outputId": "cb15029b-0fa7-4495-e20d-0a212fe132d3"
      },
      "execution_count": 7,
      "outputs": [
        {
          "output_type": "stream",
          "name": "stdout",
          "text": [
            "[1, 2, 3, 4, 5]\n"
          ]
        }
      ]
    },
    {
      "cell_type": "code",
      "source": [
        "from typing import OrderedDict\n",
        "my_list = [1, 2, 3, 3, 4, 5, 5]\n",
        "my_list = list(OrderedDict.fromkeys(my_list))\n",
        "print(my_list)"
      ],
      "metadata": {
        "colab": {
          "base_uri": "https://localhost:8080/"
        },
        "id": "W2feXbnwzVxu",
        "outputId": "e98035cb-322d-40ba-e2dc-9026cf6da37b"
      },
      "execution_count": 9,
      "outputs": [
        {
          "output_type": "stream",
          "name": "stdout",
          "text": [
            "[1, 2, 3, 4, 5]\n"
          ]
        }
      ]
    },
    {
      "cell_type": "markdown",
      "source": [
        "2.Create a function that takes a list of numbers and returns a new list with only the even numbers"
      ],
      "metadata": {
        "id": "63yCLH8k3bgN"
      }
    },
    {
      "cell_type": "code",
      "source": [
        "def even(l1):\n",
        "  my_list=[i for i in l1 if i%2==0]\n",
        "  return my_list\n",
        "l=[1, 2, 3, 3, 4, 5, 5]\n",
        "print(even(l))"
      ],
      "metadata": {
        "colab": {
          "base_uri": "https://localhost:8080/"
        },
        "id": "C4sntQaL11mQ",
        "outputId": "3e617022-de33-40be-b272-3c03cfdc4fb3"
      },
      "execution_count": 18,
      "outputs": [
        {
          "output_type": "stream",
          "name": "stdout",
          "text": [
            "[2, 4]\n"
          ]
        }
      ]
    },
    {
      "cell_type": "markdown",
      "source": [
        "3.Implement a function to reverse a list without using the reverse method."
      ],
      "metadata": {
        "id": "KOoL9A5LDG-O"
      }
    },
    {
      "cell_type": "code",
      "source": [
        "def reverse(l1):\n",
        "  my_list=l1[::-1]\n",
        "  return my_list\n",
        "\n",
        "l=[1, 2, 3, 4, 5]\n",
        "print(reverse(l))"
      ],
      "metadata": {
        "colab": {
          "base_uri": "https://localhost:8080/"
        },
        "id": "vNCVjD92DMmE",
        "outputId": "85808c03-1239-4c9e-e800-576304c631cd"
      },
      "execution_count": 22,
      "outputs": [
        {
          "output_type": "stream",
          "name": "stdout",
          "text": [
            "[5, 4, 3, 2, 1]\n"
          ]
        }
      ]
    },
    {
      "cell_type": "code",
      "source": [
        "def reverse(l1):\n",
        "  my_list=[]\n",
        "  for i in l1:\n",
        "    my_list.insert(0,i)\n",
        "  return my_list\n",
        "l=[1, 2, 3, 4, 5]\n",
        "print(reverse(l))"
      ],
      "metadata": {
        "colab": {
          "base_uri": "https://localhost:8080/"
        },
        "id": "GxapPbttFuZh",
        "outputId": "5c7e6450-8cf6-45cb-9be9-f894f1aac1d3"
      },
      "execution_count": 26,
      "outputs": [
        {
          "output_type": "stream",
          "name": "stdout",
          "text": [
            "[5, 4, 3, 2, 1]\n"
          ]
        }
      ]
    },
    {
      "cell_type": "markdown",
      "source": [
        "4.Write a script to merge two dictionaries."
      ],
      "metadata": {
        "id": "ufJD5ZECHRD8"
      }
    },
    {
      "cell_type": "code",
      "source": [
        "ford_car = {\n",
        "  \"brand\": \"Ford\",\n",
        "  \"model\": \"Mustang\",\n",
        "  \"year\": 1964\n",
        "}\n",
        "owner = {\n",
        "    \"name\":\"injamamul\",\n",
        "    \"role\":\"backend dev\"\n",
        "}\n",
        "# merge=ford_car.copy()\n",
        "# merge.update(owner)\n",
        "ford_car.update(owner)\n",
        "print(ford_car)"
      ],
      "metadata": {
        "colab": {
          "base_uri": "https://localhost:8080/"
        },
        "id": "wYri03M5HQsb",
        "outputId": "51728920-6302-491f-b678-1b3197022f89"
      },
      "execution_count": 33,
      "outputs": [
        {
          "output_type": "stream",
          "name": "stdout",
          "text": [
            "{'brand': 'Ford', 'model': 'Mustang', 'year': 1964, 'name': 'injamamul', 'role': 'backend dev'}\n"
          ]
        }
      ]
    },
    {
      "cell_type": "code",
      "source": [
        "new = ford_car | owner\n",
        "print(new)"
      ],
      "metadata": {
        "colab": {
          "base_uri": "https://localhost:8080/"
        },
        "id": "VD1RHGytK2LD",
        "outputId": "8167a4ae-9e72-44a7-c221-348bed805f8a"
      },
      "execution_count": 32,
      "outputs": [
        {
          "output_type": "stream",
          "name": "stdout",
          "text": [
            "{'brand': 'Ford', 'model': 'Mustang', 'year': 1964, 'name': 'injamamul', 'role': 'backend dev'}\n"
          ]
        }
      ]
    }
  ]
}